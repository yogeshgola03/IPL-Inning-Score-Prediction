{
 "cells": [
  {
   "cell_type": "code",
   "execution_count": 1,
   "id": "4b88815c",
   "metadata": {},
   "outputs": [],
   "source": [
    "import numpy as np\n",
    "x_train = np.load('Training_data.npy',allow_pickle = True)\n",
    "x_train = x_train.astype('float32')\n",
    "y_train = np.load('Training_label.npy')"
   ]
  },
  {
   "cell_type": "code",
   "execution_count": 2,
   "id": "8ca0f519",
   "metadata": {},
   "outputs": [
    {
     "name": "stdout",
     "output_type": "stream",
     "text": [
      "(37330, 7)\n"
     ]
    },
    {
     "data": {
      "text/plain": [
       "(7,)"
      ]
     },
     "execution_count": 2,
     "metadata": {},
     "output_type": "execute_result"
    }
   ],
   "source": [
    "print(x_train.shape)\n",
    "x_train[0].shape"
   ]
  },
  {
   "cell_type": "code",
   "execution_count": 3,
   "id": "28dc1c4b",
   "metadata": {},
   "outputs": [
    {
     "data": {
      "text/plain": [
       "array([ 0. ,  5. , 61. ,  0. ,  5.1, 59. ,  0. ], dtype=float32)"
      ]
     },
     "execution_count": 3,
     "metadata": {},
     "output_type": "execute_result"
    }
   ],
   "source": [
    "x_train[0]"
   ]
  },
  {
   "cell_type": "code",
   "execution_count": 3,
   "id": "6fc3d62b",
   "metadata": {},
   "outputs": [
    {
     "name": "stdout",
     "output_type": "stream",
     "text": [
      "INFO:tensorflow:Enabling eager execution\n",
      "INFO:tensorflow:Enabling v2 tensorshape\n",
      "INFO:tensorflow:Enabling resource variables\n",
      "INFO:tensorflow:Enabling tensor equality\n",
      "INFO:tensorflow:Enabling control flow v2\n"
     ]
    }
   ],
   "source": [
    "import tensorflow as tf\n",
    "from tensorflow import keras"
   ]
  },
  {
   "cell_type": "code",
   "execution_count": 5,
   "id": "bfaccd45",
   "metadata": {},
   "outputs": [],
   "source": [
    "model = keras.models.Sequential()\n",
    "model.add(keras.layers.Dense(7, input_shape=(7,), activation=\"relu\"))\n",
    "model.add(keras.layers.Dense(128, activation=\"relu\"))\n",
    "model.add(keras.layers.Dense(1, activation=\"linear\"))"
   ]
  },
  {
   "cell_type": "code",
   "execution_count": 6,
   "id": "f6071e5a",
   "metadata": {},
   "outputs": [
    {
     "name": "stdout",
     "output_type": "stream",
     "text": [
      "Model: \"sequential_1\"\n",
      "_________________________________________________________________\n",
      "Layer (type)                 Output Shape              Param #   \n",
      "=================================================================\n",
      "dense_3 (Dense)              (None, 7)                 56        \n",
      "_________________________________________________________________\n",
      "dense_4 (Dense)              (None, 128)               1024      \n",
      "_________________________________________________________________\n",
      "dense_5 (Dense)              (None, 1)                 129       \n",
      "=================================================================\n",
      "Total params: 1,209\n",
      "Trainable params: 1,209\n",
      "Non-trainable params: 0\n",
      "_________________________________________________________________\n"
     ]
    }
   ],
   "source": [
    "model.summary()"
   ]
  },
  {
   "cell_type": "code",
   "execution_count": 7,
   "id": "554c8042",
   "metadata": {},
   "outputs": [
    {
     "data": {
      "image/png": "[encoded data removed]",
      "text/plain": [
       "<IPython.core.display.Image object>"
      ]
     },
     "execution_count": 7,
     "metadata": {},
     "output_type": "execute_result"
    }
   ],
   "source": [
    "import pydot\n",
    "keras.utils.plot_model(model, to_file='model_plot.png', show_shapes=True, show_layer_names=True)"
   ]
  },
  {
   "cell_type": "code",
   "execution_count": 8,
   "id": "62d070b7",
   "metadata": {},
   "outputs": [],
   "source": [
    "model.compile(loss=\"mean_absolute_error\",optimizer=\"adam\")"
   ]
  },
  {
   "cell_type": "code",
   "execution_count": 9,
   "id": "ae0b55d5",
   "metadata": {},
   "outputs": [
    {
     "name": "stdout",
     "output_type": "stream",
     "text": [
      "Epoch 1/50\n",
      "934/934 [==============================] - 5s 2ms/step - loss: 36.8995 - val_loss: 27.6022\n",
      "Epoch 2/50\n",
      "934/934 [==============================] - 2s 2ms/step - loss: 24.0539 - val_loss: 25.4667\n",
      "Epoch 3/50\n",
      "934/934 [==============================] - 2s 2ms/step - loss: 22.0458 - val_loss: 24.4307\n",
      "Epoch 4/50\n",
      "934/934 [==============================] - 2s 2ms/step - loss: 19.6945 - val_loss: 20.3632\n",
      "Epoch 5/50\n",
      "934/934 [==============================] - 2s 2ms/step - loss: 17.0712 - val_loss: 17.5196\n",
      "Epoch 6/50\n",
      "934/934 [==============================] - 2s 2ms/step - loss: 15.3765 - val_loss: 15.5125\n",
      "Epoch 7/50\n",
      "934/934 [==============================] - 2s 2ms/step - loss: 14.5898 - val_loss: 13.9925\n",
      "Epoch 8/50\n",
      "934/934 [==============================] - 2s 2ms/step - loss: 14.2084 - val_loss: 14.4471\n",
      "Epoch 9/50\n",
      "934/934 [==============================] - 2s 2ms/step - loss: 13.8625 - val_loss: 13.9133\n",
      "Epoch 10/50\n",
      "934/934 [==============================] - 2s 2ms/step - loss: 13.7423 - val_loss: 13.0176\n",
      "Epoch 11/50\n",
      "934/934 [==============================] - 2s 2ms/step - loss: 13.6826 - val_loss: 13.5074\n",
      "Epoch 12/50\n",
      "934/934 [==============================] - 2s 2ms/step - loss: 13.5161 - val_loss: 13.5771\n",
      "Epoch 13/50\n",
      "934/934 [==============================] - 2s 2ms/step - loss: 13.4172 - val_loss: 12.9238\n",
      "Epoch 14/50\n",
      "934/934 [==============================] - 2s 2ms/step - loss: 13.4020 - val_loss: 12.7011\n",
      "Epoch 15/50\n",
      "934/934 [==============================] - 2s 2ms/step - loss: 13.5126 - val_loss: 13.1243\n",
      "Epoch 16/50\n",
      "934/934 [==============================] - 2s 2ms/step - loss: 13.3901 - val_loss: 12.9351\n",
      "Epoch 17/50\n",
      "934/934 [==============================] - 3s 3ms/step - loss: 13.3082 - val_loss: 13.3170\n",
      "Epoch 18/50\n",
      "934/934 [==============================] - 2s 3ms/step - loss: 13.3698 - val_loss: 12.6943\n",
      "Epoch 19/50\n",
      "934/934 [==============================] - 3s 3ms/step - loss: 13.3129 - val_loss: 13.0107\n",
      "Epoch 20/50\n",
      "934/934 [==============================] - 2s 3ms/step - loss: 13.3452 - val_loss: 12.7666\n",
      "Epoch 21/50\n",
      "934/934 [==============================] - 2s 2ms/step - loss: 13.2398 - val_loss: 13.1634\n",
      "Epoch 22/50\n",
      "934/934 [==============================] - 3s 3ms/step - loss: 13.2230 - val_loss: 13.8981\n",
      "Epoch 23/50\n",
      "934/934 [==============================] - 2s 2ms/step - loss: 13.2805 - val_loss: 13.2103\n",
      "Epoch 24/50\n",
      "934/934 [==============================] - 2s 2ms/step - loss: 13.0988 - val_loss: 12.8866\n",
      "Epoch 25/50\n",
      "934/934 [==============================] - 2s 2ms/step - loss: 13.1099 - val_loss: 14.1358\n",
      "Epoch 26/50\n",
      "934/934 [==============================] - 2s 2ms/step - loss: 13.0215 - val_loss: 12.4971\n",
      "Epoch 27/50\n",
      "934/934 [==============================] - 2s 2ms/step - loss: 13.0197 - val_loss: 12.7376\n",
      "Epoch 28/50\n",
      "934/934 [==============================] - 2s 2ms/step - loss: 12.9968 - val_loss: 12.6663\n",
      "Epoch 29/50\n",
      "934/934 [==============================] - 2s 2ms/step - loss: 12.9514 - val_loss: 12.4804\n",
      "Epoch 30/50\n",
      "934/934 [==============================] - 2s 2ms/step - loss: 12.9198 - val_loss: 12.1038\n",
      "Epoch 31/50\n",
      "934/934 [==============================] - 2s 2ms/step - loss: 12.8420 - val_loss: 12.2623\n",
      "Epoch 32/50\n",
      "934/934 [==============================] - 2s 2ms/step - loss: 12.8850 - val_loss: 12.5258\n",
      "Epoch 33/50\n",
      "934/934 [==============================] - 2s 2ms/step - loss: 12.8595 - val_loss: 12.3221\n",
      "Epoch 34/50\n",
      "934/934 [==============================] - 2s 2ms/step - loss: 12.8501 - val_loss: 12.5745\n",
      "Epoch 35/50\n",
      "934/934 [==============================] - 2s 2ms/step - loss: 12.8175 - val_loss: 12.2448\n",
      "Epoch 36/50\n",
      "934/934 [==============================] - 2s 2ms/step - loss: 12.8583 - val_loss: 12.5065\n",
      "Epoch 37/50\n",
      "934/934 [==============================] - 2s 2ms/step - loss: 12.7975 - val_loss: 12.1441\n",
      "Epoch 38/50\n",
      "934/934 [==============================] - 2s 2ms/step - loss: 12.7586 - val_loss: 12.1081\n",
      "Epoch 39/50\n",
      "934/934 [==============================] - 2s 2ms/step - loss: 12.8000 - val_loss: 12.0728\n",
      "Epoch 40/50\n",
      "934/934 [==============================] - 2s 2ms/step - loss: 12.7535 - val_loss: 11.9932\n",
      "Epoch 41/50\n",
      "934/934 [==============================] - 2s 2ms/step - loss: 12.7369 - val_loss: 12.1475\n",
      "Epoch 42/50\n",
      "934/934 [==============================] - 2s 2ms/step - loss: 12.7711 - val_loss: 12.7348\n",
      "Epoch 43/50\n",
      "934/934 [==============================] - 2s 2ms/step - loss: 12.7520 - val_loss: 12.1033\n",
      "Epoch 44/50\n",
      "934/934 [==============================] - 2s 2ms/step - loss: 12.7431 - val_loss: 12.5176\n",
      "Epoch 45/50\n",
      "934/934 [==============================] - 2s 2ms/step - loss: 12.7540 - val_loss: 12.2149\n",
      "Epoch 46/50\n",
      "934/934 [==============================] - 2s 2ms/step - loss: 12.7936 - val_loss: 12.3014\n",
      "Epoch 47/50\n",
      "934/934 [==============================] - 2s 2ms/step - loss: 12.6814 - val_loss: 12.0211\n",
      "Epoch 48/50\n",
      "934/934 [==============================] - 2s 2ms/step - loss: 12.7445 - val_loss: 11.9382\n",
      "Epoch 49/50\n",
      "934/934 [==============================] - 2s 2ms/step - loss: 12.7142 - val_loss: 12.0055\n",
      "Epoch 50/50\n",
      "934/934 [==============================] - 2s 2ms/step - loss: 12.7477 - val_loss: 12.3546\n"
     ]
    }
   ],
   "source": [
    "model_history=model.fit(x_train,y_train,epochs=50,validation_split=0.20)"
   ]
  },
  {
   "cell_type": "code",
   "execution_count": 9,
   "id": "cc8db325",
   "metadata": {},
   "outputs": [
    {
     "data": {
      "image/png": "[encoded data removed]",
      "text/plain": [
       "<Figure size 432x288 with 1 Axes>"
      ]
     },
     "metadata": {
      "needs_background": "light"
     },
     "output_type": "display_data"
    }
   ],
   "source": [
    "import matplotlib.pyplot as plt\n",
    "plt.plot(model_history.history['loss'])\n",
    "plt.plot(model_history.history['val_loss'])\n",
    "plt.title('Model loss')\n",
    "plt.ylabel('Loss')\n",
    "plt.xlabel('Epoch')\n",
    "plt.legend(['Train', 'Test'], loc='upper left')\n",
    "plt.show()"
   ]
  },
  {
   "cell_type": "code",
   "execution_count": 11,
   "id": "7bbedab0",
   "metadata": {},
   "outputs": [],
   "source": [
    "x_test = np.load('Testing_data.npy',allow_pickle = True)\n",
    "x_test = x_test.astype('float32')\n",
    "y_test = np.load('Testing_label.npy')"
   ]
  },
  {
   "cell_type": "code",
   "execution_count": 12,
   "id": "32cfdcb2",
   "metadata": {},
   "outputs": [
    {
     "name": "stdout",
     "output_type": "stream",
     "text": [
      "87/87 [==============================] - 0s 2ms/step - loss: 11.7933\n"
     ]
    },
    {
     "data": {
      "text/plain": [
       "11.793266296386719"
      ]
     },
     "execution_count": 12,
     "metadata": {},
     "output_type": "execute_result"
    }
   ],
   "source": [
    "model.evaluate(x_test,y_test)"
   ]
  },
  {
   "cell_type": "code",
   "execution_count": 13,
   "id": "fe94e52e",
   "metadata": {},
   "outputs": [
    {
     "name": "stdout",
     "output_type": "stream",
     "text": [
      "INFO:tensorflow:Assets written to: Score_Prediction_100\\assets\n"
     ]
    }
   ],
   "source": [
    "model.save('Score_Prediction_100')"
   ]
  },
  {
   "cell_type": "code",
   "execution_count": 14,
   "id": "c5bd7bef",
   "metadata": {},
   "outputs": [
    {
     "name": "stdout",
     "output_type": "stream",
     "text": [
      "155\n",
      "157\n"
     ]
    }
   ],
   "source": [
    "test = x_test[100]\n",
    "test = test[np.newaxis,:]\n",
    "result = model.predict(test)\n",
    "print(int(result[0][0]))\n",
    "print(y_test[100])"
   ]
  },
  {
   "cell_type": "code",
   "execution_count": 17,
   "id": "d2e18a56",
   "metadata": {},
   "outputs": [
    {
     "name": "stdout",
     "output_type": "stream",
     "text": [
      "191\n"
     ]
    }
   ],
   "source": [
    "test = np.array([2,3,68,2,5.1,40,1])\n",
    "test = test[np.newaxis,:]\n",
    "result = model.predict(test)\n",
    "print(int(result[0][0]))"
   ]
  },
  {
   "cell_type": "code",
   "execution_count": null,
   "id": "43e3aa32",
   "metadata": {},
   "outputs": [],
   "source": []
  }
 ],
 "metadata": {
  "kernelspec": {
   "display_name": "Python 3",
   "language": "python",
   "name": "python3"
  },
  "language_info": {
   "codemirror_mode": {
    "name": "ipython",
    "version": 3
   },
   "file_extension": ".py",
   "mimetype": "text/x-python",
   "name": "python",
   "nbconvert_exporter": "python",
   "pygments_lexer": "ipython3",
   "version": "3.9.4"
  }
 },
 "nbformat": 4,
 "nbformat_minor": 5
}
